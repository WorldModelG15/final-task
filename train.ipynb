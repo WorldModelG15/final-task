{
  "nbformat": 4,
  "nbformat_minor": 0,
  "metadata": {
    "colab": {
      "name": "train.ipynb",
      "provenance": [],
      "collapsed_sections": [],
      "authorship_tag": "ABX9TyMPbjWgjetLXZ5Vespuose3",
      "include_colab_link": true
    },
    "kernelspec": {
      "name": "python3",
      "display_name": "Python 3"
    },
    "language_info": {
      "name": "python"
    },
    "accelerator": "GPU"
  },
  "cells": [
    {
      "cell_type": "markdown",
      "metadata": {
        "id": "view-in-github",
        "colab_type": "text"
      },
      "source": [
        "<a href=\"https://colab.research.google.com/github/WorldModelG15/final-task/blob/takata/train.ipynb\" target=\"_parent\"><img src=\"https://colab.research.google.com/assets/colab-badge.svg\" alt=\"Open In Colab\"/></a>"
      ]
    },
    {
      "cell_type": "code",
      "execution_count": 1,
      "metadata": {
        "colab": {
          "base_uri": "https://localhost:8080/"
        },
        "id": "PuQeh7pIyax3",
        "outputId": "39620cff-b364-4da5-a761-e8c097c45dd2"
      },
      "outputs": [
        {
          "output_type": "stream",
          "name": "stdout",
          "text": [
            "Cloning into 'final-task'...\n",
            "remote: Enumerating objects: 363, done.\u001b[K\n",
            "remote: Counting objects: 100% (363/363), done.\u001b[K\n",
            "remote: Compressing objects: 100% (286/286), done.\u001b[K\n",
            "remote: Total 363 (delta 91), reused 316 (delta 52), pack-reused 0\u001b[K\n",
            "Receiving objects: 100% (363/363), 124.61 MiB | 31.60 MiB/s, done.\n",
            "Resolving deltas: 100% (91/91), done.\n",
            "Submodule 'gym-duckietown' (https://github.com/WorldModelG15/gym-duckietown.git) registered for path 'gym-duckietown'\n",
            "Cloning into '/content/final-task/gym-duckietown'...\n",
            "remote: Enumerating objects: 6174, done.        \n",
            "remote: Counting objects: 100% (455/455), done.        \n",
            "remote: Compressing objects: 100% (221/221), done.        \n",
            "remote: Total 6174 (delta 225), reused 366 (delta 162), pack-reused 5719        \n",
            "Receiving objects: 100% (6174/6174), 79.16 MiB | 3.29 MiB/s, done.\n",
            "Resolving deltas: 100% (3534/3534), done.\n",
            "Submodule path 'gym-duckietown': checked out '27c2ac73e1bd252848da114f3bc66af08673e957'\n",
            "/content/final-task\n"
          ]
        }
      ],
      "source": [
        "!git clone --recursive -b takata https://github.com/WorldModelG15/final-task.git\n",
        "%cd final-task"
      ]
    },
    {
      "cell_type": "code",
      "source": [
        "%cd gym-duckietown/\n",
        "!pip install -e .\n",
        "%cd .."
      ],
      "metadata": {
        "colab": {
          "base_uri": "https://localhost:8080/"
        },
        "id": "WSCce_MBzmgo",
        "outputId": "f7315b3e-3d6c-41be-e115-bf522732bf0f"
      },
      "execution_count": 5,
      "outputs": [
        {
          "output_type": "stream",
          "name": "stdout",
          "text": [
            "[Errno 2] No such file or directory: 'gym-duckietown/'\n",
            "/content/final-task/gym-duckietown\n",
            "Obtaining file:///content/final-task/gym-duckietown\n",
            "Requirement already satisfied: gym>=0.17.1 in /usr/local/lib/python3.7/dist-packages (from duckietown-gym-daffy==6.1.31) (0.17.3)\n",
            "Requirement already satisfied: numpy>=1.10.0 in /usr/local/lib/python3.7/dist-packages (from duckietown-gym-daffy==6.1.31) (1.21.5)\n",
            "Requirement already satisfied: pyglet in /usr/local/lib/python3.7/dist-packages (from duckietown-gym-daffy==6.1.31) (1.5.0)\n",
            "Requirement already satisfied: pyzmq>=16.0.0 in /usr/local/lib/python3.7/dist-packages (from duckietown-gym-daffy==6.1.31) (22.3.0)\n",
            "Requirement already satisfied: opencv-python>=3.4 in /usr/local/lib/python3.7/dist-packages (from duckietown-gym-daffy==6.1.31) (4.1.2.30)\n",
            "Requirement already satisfied: pyyaml>=3.11 in /usr/local/lib/python3.7/dist-packages (from duckietown-gym-daffy==6.1.31) (3.13)\n",
            "Requirement already satisfied: duckietown-world-daffy in /usr/local/lib/python3.7/dist-packages (from duckietown-gym-daffy==6.1.31) (6.2.38)\n",
            "Requirement already satisfied: PyGeometry-z6 in /usr/local/lib/python3.7/dist-packages (from duckietown-gym-daffy==6.1.31) (2.1.4)\n",
            "Requirement already satisfied: carnivalmirror==0.6.2 in /usr/local/lib/python3.7/dist-packages (from duckietown-gym-daffy==6.1.31) (0.6.2)\n",
            "Requirement already satisfied: zuper-commons-z6 in /usr/local/lib/python3.7/dist-packages (from duckietown-gym-daffy==6.1.31) (6.2.4)\n",
            "Requirement already satisfied: typing-extensions in /usr/local/lib/python3.7/dist-packages (from duckietown-gym-daffy==6.1.31) (3.10.0.2)\n",
            "Requirement already satisfied: Pillow in /usr/local/lib/python3.7/dist-packages (from duckietown-gym-daffy==6.1.31) (7.1.2)\n",
            "Requirement already satisfied: matplotlib>=2.2.2 in /usr/local/lib/python3.7/dist-packages (from carnivalmirror==0.6.2->duckietown-gym-daffy==6.1.31) (3.2.2)\n",
            "Requirement already satisfied: cloudpickle<1.7.0,>=1.2.0 in /usr/local/lib/python3.7/dist-packages (from gym>=0.17.1->duckietown-gym-daffy==6.1.31) (1.3.0)\n",
            "Requirement already satisfied: scipy in /usr/local/lib/python3.7/dist-packages (from gym>=0.17.1->duckietown-gym-daffy==6.1.31) (1.4.1)\n",
            "Requirement already satisfied: kiwisolver>=1.0.1 in /usr/local/lib/python3.7/dist-packages (from matplotlib>=2.2.2->carnivalmirror==0.6.2->duckietown-gym-daffy==6.1.31) (1.4.0)\n",
            "Requirement already satisfied: cycler>=0.10 in /usr/local/lib/python3.7/dist-packages (from matplotlib>=2.2.2->carnivalmirror==0.6.2->duckietown-gym-daffy==6.1.31) (0.11.0)\n",
            "Requirement already satisfied: pyparsing!=2.0.4,!=2.1.2,!=2.1.6,>=2.0.1 in /usr/local/lib/python3.7/dist-packages (from matplotlib>=2.2.2->carnivalmirror==0.6.2->duckietown-gym-daffy==6.1.31) (3.0.7)\n",
            "Requirement already satisfied: python-dateutil>=2.1 in /usr/local/lib/python3.7/dist-packages (from matplotlib>=2.2.2->carnivalmirror==0.6.2->duckietown-gym-daffy==6.1.31) (2.8.2)\n",
            "Requirement already satisfied: future in /usr/local/lib/python3.7/dist-packages (from pyglet->duckietown-gym-daffy==6.1.31) (0.16.0)\n",
            "Requirement already satisfied: six>=1.5 in /usr/local/lib/python3.7/dist-packages (from python-dateutil>=2.1->matplotlib>=2.2.2->carnivalmirror==0.6.2->duckietown-gym-daffy==6.1.31) (1.15.0)\n",
            "Requirement already satisfied: zuper-typing-z6>=6.0.66 in /usr/local/lib/python3.7/dist-packages (from duckietown-world-daffy->duckietown-gym-daffy==6.1.31) (6.2.3)\n",
            "Requirement already satisfied: jpeg4py in /usr/local/lib/python3.7/dist-packages (from duckietown-world-daffy->duckietown-gym-daffy==6.1.31) (0.1.4)\n",
            "Requirement already satisfied: networkx<3,>=2.2 in /usr/local/lib/python3.7/dist-packages (from duckietown-world-daffy->duckietown-gym-daffy==6.1.31) (2.6.3)\n",
            "Requirement already satisfied: gltflib in /usr/local/lib/python3.7/dist-packages (from duckietown-world-daffy->duckietown-gym-daffy==6.1.31) (1.0.12)\n",
            "Requirement already satisfied: markdown in /usr/local/lib/python3.7/dist-packages (from duckietown-world-daffy->duckietown-gym-daffy==6.1.31) (3.3.6)\n",
            "Requirement already satisfied: frozendict in /usr/local/lib/python3.7/dist-packages (from duckietown-world-daffy->duckietown-gym-daffy==6.1.31) (2.3.1)\n",
            "Requirement already satisfied: duckietown-serialization-ds1<2 in /usr/local/lib/python3.7/dist-packages (from duckietown-world-daffy->duckietown-gym-daffy==6.1.31) (1.0.20)\n",
            "Requirement already satisfied: lxml in /usr/local/lib/python3.7/dist-packages (from duckietown-world-daffy->duckietown-gym-daffy==6.1.31) (4.2.6)\n",
            "Requirement already satisfied: svgwrite in /usr/local/lib/python3.7/dist-packages (from duckietown-world-daffy->duckietown-gym-daffy==6.1.31) (1.4.2)\n",
            "Requirement already satisfied: PyContracts3 in /usr/local/lib/python3.7/dist-packages (from duckietown-world-daffy->duckietown-gym-daffy==6.1.31) (3.0.2)\n",
            "Requirement already satisfied: oyaml in /usr/local/lib/python3.7/dist-packages (from duckietown-world-daffy->duckietown-gym-daffy==6.1.31) (1.0)\n",
            "Requirement already satisfied: aido-protocols-daffy in /usr/local/lib/python3.7/dist-packages (from duckietown-world-daffy->duckietown-gym-daffy==6.1.31) (6.0.59)\n",
            "Requirement already satisfied: plotly in /usr/local/lib/python3.7/dist-packages (from duckietown-world-daffy->duckietown-gym-daffy==6.1.31) (5.5.0)\n",
            "Requirement already satisfied: coloredlogs in /usr/local/lib/python3.7/dist-packages (from duckietown-world-daffy->duckietown-gym-daffy==6.1.31) (15.0.1)\n",
            "Requirement already satisfied: ipython in /usr/local/lib/python3.7/dist-packages (from duckietown-world-daffy->duckietown-gym-daffy==6.1.31) (5.5.0)\n",
            "Requirement already satisfied: zuper-ipce-z6 in /usr/local/lib/python3.7/dist-packages (from duckietown-world-daffy->duckietown-gym-daffy==6.1.31) (6.1.2)\n",
            "Requirement already satisfied: trimesh in /usr/local/lib/python3.7/dist-packages (from duckietown-world-daffy->duckietown-gym-daffy==6.1.31) (3.10.8)\n",
            "Requirement already satisfied: pyrender in /usr/local/lib/python3.7/dist-packages (from duckietown-world-daffy->duckietown-gym-daffy==6.1.31) (0.1.45)\n",
            "Requirement already satisfied: beautifulsoup4<=4.7.1,>=4.6.3 in /usr/local/lib/python3.7/dist-packages (from duckietown-world-daffy->duckietown-gym-daffy==6.1.31) (4.6.3)\n",
            "Requirement already satisfied: base58<2 in /usr/local/lib/python3.7/dist-packages (from duckietown-serialization-ds1<2->duckietown-world-daffy->duckietown-gym-daffy==6.1.31) (1.0.3)\n",
            "Requirement already satisfied: pybase64 in /usr/local/lib/python3.7/dist-packages (from zuper-typing-z6>=6.0.66->duckietown-world-daffy->duckietown-gym-daffy==6.1.31) (1.2.1)\n",
            "Requirement already satisfied: coverage>=1.4.33 in /usr/local/lib/python3.7/dist-packages (from zuper-typing-z6>=6.0.66->duckietown-world-daffy->duckietown-gym-daffy==6.1.31) (3.7.1)\n",
            "Requirement already satisfied: pytz in /usr/local/lib/python3.7/dist-packages (from zuper-typing-z6>=6.0.66->duckietown-world-daffy->duckietown-gym-daffy==6.1.31) (2018.9)\n",
            "Requirement already satisfied: validate-email in /usr/local/lib/python3.7/dist-packages (from zuper-typing-z6>=6.0.66->duckietown-world-daffy->duckietown-gym-daffy==6.1.31) (1.3)\n",
            "Requirement already satisfied: termcolor in /usr/local/lib/python3.7/dist-packages (from zuper-typing-z6>=6.0.66->duckietown-world-daffy->duckietown-gym-daffy==6.1.31) (1.1.0)\n",
            "Requirement already satisfied: jsonschema in /usr/local/lib/python3.7/dist-packages (from zuper-typing-z6>=6.0.66->duckietown-world-daffy->duckietown-gym-daffy==6.1.31) (4.3.3)\n",
            "Requirement already satisfied: nose in /usr/local/lib/python3.7/dist-packages (from zuper-typing-z6>=6.0.66->duckietown-world-daffy->duckietown-gym-daffy==6.1.31) (1.3.7)\n",
            "Requirement already satisfied: mypy-extensions in /usr/local/lib/python3.7/dist-packages (from zuper-typing-z6>=6.0.66->duckietown-world-daffy->duckietown-gym-daffy==6.1.31) (0.4.3)\n",
            "Requirement already satisfied: xtermcolor in /usr/local/lib/python3.7/dist-packages (from zuper-commons-z6->duckietown-gym-daffy==6.1.31) (1.3)\n",
            "Requirement already satisfied: webcolors in /usr/local/lib/python3.7/dist-packages (from zuper-commons-z6->duckietown-gym-daffy==6.1.31) (1.11.1)\n",
            "Requirement already satisfied: zuper-nodes-z6>=6.2.8 in /usr/local/lib/python3.7/dist-packages (from aido-protocols-daffy->duckietown-world-daffy->duckietown-gym-daffy==6.1.31) (6.2.13)\n",
            "Requirement already satisfied: cbor2 in /usr/local/lib/python3.7/dist-packages (from zuper-nodes-z6>=6.2.8->aido-protocols-daffy->duckietown-world-daffy->duckietown-gym-daffy==6.1.31) (5.4.2.post1)\n",
            "Requirement already satisfied: humanfriendly>=9.1 in /usr/local/lib/python3.7/dist-packages (from coloredlogs->duckietown-world-daffy->duckietown-gym-daffy==6.1.31) (10.0)\n",
            "Requirement already satisfied: dataclasses-json>=0.4.5 in /usr/local/lib/python3.7/dist-packages (from gltflib->duckietown-world-daffy->duckietown-gym-daffy==6.1.31) (0.5.7)\n",
            "Requirement already satisfied: marshmallow-enum<2.0.0,>=1.5.1 in /usr/local/lib/python3.7/dist-packages (from dataclasses-json>=0.4.5->gltflib->duckietown-world-daffy->duckietown-gym-daffy==6.1.31) (1.5.1)\n",
            "Requirement already satisfied: marshmallow<4.0.0,>=3.3.0 in /usr/local/lib/python3.7/dist-packages (from dataclasses-json>=0.4.5->gltflib->duckietown-world-daffy->duckietown-gym-daffy==6.1.31) (3.15.0)\n",
            "Requirement already satisfied: typing-inspect>=0.4.0 in /usr/local/lib/python3.7/dist-packages (from dataclasses-json>=0.4.5->gltflib->duckietown-world-daffy->duckietown-gym-daffy==6.1.31) (0.7.1)\n",
            "Requirement already satisfied: packaging in /usr/local/lib/python3.7/dist-packages (from marshmallow<4.0.0,>=3.3.0->dataclasses-json>=0.4.5->gltflib->duckietown-world-daffy->duckietown-gym-daffy==6.1.31) (21.3)\n",
            "Requirement already satisfied: pickleshare in /usr/local/lib/python3.7/dist-packages (from ipython->duckietown-world-daffy->duckietown-gym-daffy==6.1.31) (0.7.5)\n",
            "Requirement already satisfied: setuptools>=18.5 in /usr/local/lib/python3.7/dist-packages (from ipython->duckietown-world-daffy->duckietown-gym-daffy==6.1.31) (57.4.0)\n",
            "Requirement already satisfied: prompt-toolkit<2.0.0,>=1.0.4 in /usr/local/lib/python3.7/dist-packages (from ipython->duckietown-world-daffy->duckietown-gym-daffy==6.1.31) (1.0.18)\n",
            "Requirement already satisfied: traitlets>=4.2 in /usr/local/lib/python3.7/dist-packages (from ipython->duckietown-world-daffy->duckietown-gym-daffy==6.1.31) (5.1.1)\n",
            "Requirement already satisfied: simplegeneric>0.8 in /usr/local/lib/python3.7/dist-packages (from ipython->duckietown-world-daffy->duckietown-gym-daffy==6.1.31) (0.8.1)\n",
            "Requirement already satisfied: pexpect in /usr/local/lib/python3.7/dist-packages (from ipython->duckietown-world-daffy->duckietown-gym-daffy==6.1.31) (4.8.0)\n",
            "Requirement already satisfied: pygments in /usr/local/lib/python3.7/dist-packages (from ipython->duckietown-world-daffy->duckietown-gym-daffy==6.1.31) (2.6.1)\n",
            "Requirement already satisfied: decorator in /usr/local/lib/python3.7/dist-packages (from ipython->duckietown-world-daffy->duckietown-gym-daffy==6.1.31) (4.4.2)\n",
            "Requirement already satisfied: wcwidth in /usr/local/lib/python3.7/dist-packages (from prompt-toolkit<2.0.0,>=1.0.4->ipython->duckietown-world-daffy->duckietown-gym-daffy==6.1.31) (0.2.5)\n",
            "Requirement already satisfied: cffi in /usr/local/lib/python3.7/dist-packages (from jpeg4py->duckietown-world-daffy->duckietown-gym-daffy==6.1.31) (1.15.0)\n",
            "Requirement already satisfied: pycparser in /usr/local/lib/python3.7/dist-packages (from cffi->jpeg4py->duckietown-world-daffy->duckietown-gym-daffy==6.1.31) (2.21)\n",
            "Requirement already satisfied: importlib-metadata in /usr/local/lib/python3.7/dist-packages (from jsonschema->zuper-typing-z6>=6.0.66->duckietown-world-daffy->duckietown-gym-daffy==6.1.31) (4.11.3)\n",
            "Requirement already satisfied: importlib-resources>=1.4.0 in /usr/local/lib/python3.7/dist-packages (from jsonschema->zuper-typing-z6>=6.0.66->duckietown-world-daffy->duckietown-gym-daffy==6.1.31) (5.4.0)\n",
            "Requirement already satisfied: attrs>=17.4.0 in /usr/local/lib/python3.7/dist-packages (from jsonschema->zuper-typing-z6>=6.0.66->duckietown-world-daffy->duckietown-gym-daffy==6.1.31) (21.4.0)\n",
            "Requirement already satisfied: pyrsistent!=0.17.0,!=0.17.1,!=0.17.2,>=0.14.0 in /usr/local/lib/python3.7/dist-packages (from jsonschema->zuper-typing-z6>=6.0.66->duckietown-world-daffy->duckietown-gym-daffy==6.1.31) (0.18.1)\n",
            "Requirement already satisfied: zipp>=3.1.0 in /usr/local/lib/python3.7/dist-packages (from importlib-resources>=1.4.0->jsonschema->zuper-typing-z6>=6.0.66->duckietown-world-daffy->duckietown-gym-daffy==6.1.31) (3.7.0)\n",
            "Requirement already satisfied: ptyprocess>=0.5 in /usr/local/lib/python3.7/dist-packages (from pexpect->ipython->duckietown-world-daffy->duckietown-gym-daffy==6.1.31) (0.7.0)\n",
            "Requirement already satisfied: tenacity>=6.2.0 in /usr/local/lib/python3.7/dist-packages (from plotly->duckietown-world-daffy->duckietown-gym-daffy==6.1.31) (8.0.1)\n",
            "Requirement already satisfied: imageio in /usr/local/lib/python3.7/dist-packages (from pyrender->duckietown-world-daffy->duckietown-gym-daffy==6.1.31) (2.4.1)\n",
            "Requirement already satisfied: PyOpenGL==3.1.0 in /usr/local/lib/python3.7/dist-packages (from pyrender->duckietown-world-daffy->duckietown-gym-daffy==6.1.31) (3.1.0)\n",
            "Requirement already satisfied: freetype-py in /usr/local/lib/python3.7/dist-packages (from pyrender->duckietown-world-daffy->duckietown-gym-daffy==6.1.31) (2.2.0)\n",
            "Requirement already satisfied: py-cid in /usr/local/lib/python3.7/dist-packages (from zuper-ipce-z6->duckietown-world-daffy->duckietown-gym-daffy==6.1.31) (0.3.0)\n",
            "Requirement already satisfied: py-multihash in /usr/local/lib/python3.7/dist-packages (from zuper-ipce-z6->duckietown-world-daffy->duckietown-gym-daffy==6.1.31) (0.2.3)\n",
            "Requirement already satisfied: py-multibase<2.0.0,>=1.0.0 in /usr/local/lib/python3.7/dist-packages (from py-cid->zuper-ipce-z6->duckietown-world-daffy->duckietown-gym-daffy==6.1.31) (1.0.3)\n",
            "Requirement already satisfied: py-multicodec<0.3.0 in /usr/local/lib/python3.7/dist-packages (from py-cid->zuper-ipce-z6->duckietown-world-daffy->duckietown-gym-daffy==6.1.31) (0.2.1)\n",
            "Requirement already satisfied: morphys<2.0,>=1.0 in /usr/local/lib/python3.7/dist-packages (from py-cid->zuper-ipce-z6->duckietown-world-daffy->duckietown-gym-daffy==6.1.31) (1.0)\n",
            "Requirement already satisfied: python-baseconv<2.0,>=1.2.0 in /usr/local/lib/python3.7/dist-packages (from py-multibase<2.0.0,>=1.0.0->py-cid->zuper-ipce-z6->duckietown-world-daffy->duckietown-gym-daffy==6.1.31) (1.2.2)\n",
            "Requirement already satisfied: varint<2.0.0,>=1.0.2 in /usr/local/lib/python3.7/dist-packages (from py-multicodec<0.3.0->py-cid->zuper-ipce-z6->duckietown-world-daffy->duckietown-gym-daffy==6.1.31) (1.0.2)\n",
            "Installing collected packages: duckietown-gym-daffy\n",
            "  Attempting uninstall: duckietown-gym-daffy\n",
            "    Found existing installation: duckietown-gym-daffy 6.1.31\n",
            "    Can't uninstall 'duckietown-gym-daffy'. No files were found to uninstall.\n",
            "  Running setup.py develop for duckietown-gym-daffy\n",
            "Successfully installed duckietown-gym-daffy-6.1.31\n",
            "/content/final-task\n"
          ]
        }
      ]
    },
    {
      "cell_type": "code",
      "source": [
        "from utils.env import launch_env\n",
        "from utils.wrappers import (\n",
        "    EarlyStopWrapper,\n",
        "    NormalizeWrapper,\n",
        "    ImgWrapper,\n",
        "    DtRewardWrapper,\n",
        "    ActionWrapper,\n",
        "    ResizeWrapper,\n",
        "    EarlyStopWrapper,\n",
        ")\n",
        "from dreamer.config import DreamerConfig\n",
        "import torch\n",
        "from dreamer.trainer import Trainer\n",
        "\n",
        "if __name__ == \"__main__\":\n",
        "    env = launch_env(map_name=\"loop_pedestrians\")\n",
        "    env = ResizeWrapper(env)\n",
        "    # env = NormalizeWrapper(env)\n",
        "    env = ImgWrapper(env)  # to make the images from 120x160x3 into 3x120x160\n",
        "    env = ActionWrapper(env)\n",
        "    env = DtRewardWrapper(env)\n",
        "    env = EarlyStopWrapper(env)\n",
        "    device = torch.device(\"cuda\") if torch.cuda.is_available() else torch.device(\"cpu\")\n",
        "    config = DreamerConfig()\n",
        "    trainer = Trainer(env, device, config)\n",
        "\n",
        "    trainer.train()\n"
      ],
      "metadata": {
        "colab": {
          "base_uri": "https://localhost:8080/",
          "height": 500
        },
        "id": "yXzAfRTIFQo8",
        "outputId": "9d9bf42e-1d72-4d47-ef7c-667b65905f30"
      },
      "execution_count": 8,
      "outputs": [
        {
          "output_type": "error",
          "ename": "ModuleNotFoundError",
          "evalue": "ignored",
          "traceback": [
            "\u001b[0;31m---------------------------------------------------------------------------\u001b[0m",
            "\u001b[0;31mModuleNotFoundError\u001b[0m                       Traceback (most recent call last)",
            "\u001b[0;32m<ipython-input-8-9319dbe5f7fd>\u001b[0m in \u001b[0;36m<module>\u001b[0;34m()\u001b[0m\n\u001b[0;32m----> 1\u001b[0;31m \u001b[0;32mfrom\u001b[0m \u001b[0mutils\u001b[0m\u001b[0;34m.\u001b[0m\u001b[0menv\u001b[0m \u001b[0;32mimport\u001b[0m \u001b[0mlaunch_env\u001b[0m\u001b[0;34m\u001b[0m\u001b[0;34m\u001b[0m\u001b[0m\n\u001b[0m\u001b[1;32m      2\u001b[0m from utils.wrappers import (\n\u001b[1;32m      3\u001b[0m     \u001b[0mEarlyStopWrapper\u001b[0m\u001b[0;34m,\u001b[0m\u001b[0;34m\u001b[0m\u001b[0;34m\u001b[0m\u001b[0m\n\u001b[1;32m      4\u001b[0m     \u001b[0mNormalizeWrapper\u001b[0m\u001b[0;34m,\u001b[0m\u001b[0;34m\u001b[0m\u001b[0;34m\u001b[0m\u001b[0m\n\u001b[1;32m      5\u001b[0m     \u001b[0mImgWrapper\u001b[0m\u001b[0;34m,\u001b[0m\u001b[0;34m\u001b[0m\u001b[0;34m\u001b[0m\u001b[0m\n",
            "\u001b[0;32m/content/final-task/utils/env.py\u001b[0m in \u001b[0;36m<module>\u001b[0;34m()\u001b[0m\n\u001b[1;32m      1\u001b[0m \u001b[0;32mimport\u001b[0m \u001b[0mgym\u001b[0m\u001b[0;34m\u001b[0m\u001b[0;34m\u001b[0m\u001b[0m\n\u001b[0;32m----> 2\u001b[0;31m \u001b[0;32mimport\u001b[0m \u001b[0mgym_duckietown\u001b[0m\u001b[0;34m\u001b[0m\u001b[0;34m\u001b[0m\u001b[0m\n\u001b[0m\u001b[1;32m      3\u001b[0m \u001b[0;34m\u001b[0m\u001b[0m\n\u001b[1;32m      4\u001b[0m \u001b[0;34m\u001b[0m\u001b[0m\n\u001b[1;32m      5\u001b[0m \u001b[0;32mdef\u001b[0m \u001b[0mlaunch_env\u001b[0m\u001b[0;34m(\u001b[0m\u001b[0mid\u001b[0m\u001b[0;34m=\u001b[0m\u001b[0;32mNone\u001b[0m\u001b[0;34m,\u001b[0m \u001b[0mmap_name\u001b[0m\u001b[0;34m=\u001b[0m\u001b[0;34m\"loop_empty\"\u001b[0m\u001b[0;34m)\u001b[0m\u001b[0;34m:\u001b[0m\u001b[0;34m\u001b[0m\u001b[0;34m\u001b[0m\u001b[0m\n",
            "\u001b[0;31mModuleNotFoundError\u001b[0m: No module named 'gym_duckietown'",
            "",
            "\u001b[0;31m---------------------------------------------------------------------------\u001b[0;32m\nNOTE: If your import is failing due to a missing package, you can\nmanually install dependencies using either !pip or !apt.\n\nTo view examples of installing some common dependencies, click the\n\"Open Examples\" button below.\n\u001b[0;31m---------------------------------------------------------------------------\u001b[0m\n"
          ],
          "errorDetails": {
            "actions": [
              {
                "action": "open_url",
                "actionText": "Open Examples",
                "url": "/notebooks/snippets/importing_libraries.ipynb"
              }
            ]
          }
        }
      ]
    }
  ]
}