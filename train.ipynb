{
  "nbformat": 4,
  "nbformat_minor": 0,
  "metadata": {
    "colab": {
      "name": "train.ipynb",
      "provenance": [],
      "collapsed_sections": [],
      "authorship_tag": "ABX9TyN9jcZOkUESo7M0ZB7tztwA",
      "include_colab_link": true
    },
    "kernelspec": {
      "name": "python3",
      "display_name": "Python 3"
    },
    "language_info": {
      "name": "python"
    }
  },
  "cells": [
    {
      "cell_type": "markdown",
      "metadata": {
        "id": "view-in-github",
        "colab_type": "text"
      },
      "source": [
        "<a href=\"https://colab.research.google.com/github/WorldModelG15/final-task/blob/develop/train.ipynb\" target=\"_parent\"><img src=\"https://colab.research.google.com/assets/colab-badge.svg\" alt=\"Open In Colab\"/></a>"
      ]
    },
    {
      "cell_type": "markdown",
      "source": [
        "ドライブをマウントして、マウントした場所にディレクトリ移動してから実行してください。\n",
        "\n"
      ],
      "metadata": {
        "id": "aaH7773z0NtO"
      }
    },
    {
      "cell_type": "code",
      "execution_count": null,
      "metadata": {
        "id": "zF31Dcmu0L2Y"
      },
      "outputs": [],
      "source": [
        "# !git clone --recursive -b takata https://github.com/WorldModelG15/final-task.git\n",
        "!git clone --recursive -b develop https://github.com/WorldModelG15/final-task.git\n",
        "%cd final-task\n",
        "%cd gym-duckietown/\n",
        "!pip install -e .\n",
        "%cd .."
      ]
    },
    {
      "cell_type": "code",
      "source": [
        "!pip install pyvirtualdisplay\n",
        "!apt-get install python-opengl -y\n",
        "!apt install xvfb -y\n",
        "!apt-get install x11-utils -y\n",
        "from pyvirtualdisplay import Display\n",
        "import numpy as np\n",
        "import matplotlib.pyplot as plt\n",
        "%matplotlib inline\n",
        "%load_ext tensorboard\n",
        "\n",
        "# This code creates a virtual display to draw game images on. \n",
        "# If you are running locally, just ignore it\n",
        "import os\n",
        "def create_display():\n",
        "    display = Display(visible=0, size=(1400, 900))\n",
        "    display.start()\n",
        "    if type(os.environ.get(\"DISPLAY\")) is not str or len(os.environ.get(\"DISPLAY\"))==0:\n",
        "        !sh xvfb start\n",
        "        %env DISPLAY=:1\n",
        "create_display()"
      ],
      "metadata": {
        "id": "8SY7YRj_0Ues"
      },
      "execution_count": null,
      "outputs": []
    },
    {
      "cell_type": "code",
      "source": [
        "import sys\n",
        "sys.path.append('/content/final-task/gym-duckietown/src/')\n",
        "from utils.env import launch_env\n",
        "from utils.wrappers import (\n",
        "    ImgWrapper,\n",
        "    DtRewardWrapper,\n",
        "    ActionWrapper,\n",
        "    ResizeWrapper,\n",
        "    OriginalWrapper,\n",
        ")\n",
        "from dreamer.config import DreamerConfig\n",
        "from dreamer.trainer import Trainer\n",
        "import torch\n",
        "\n",
        " ### デフォルトのマップで学習する場合\n",
        "env = launch_env(map_name=\"loop_pedestrians\") # randomize_maps_on_reset=True でマップランダム化, enable_newly_visited_tile_reward=True でタイル報酬の有効化です\n",
        "\n",
        "### オリジナルのマップで学習する場合\n",
        "# map_dir_abs_path = (\n",
        "#     \"/root/mnt/final-task/gym-duckietown/created_maps/\"  # ここは環境によって変えます\n",
        "# )\n",
        "# map_name = \"zigzag\"  # 'zigzag','oneloop','three_statics','loop_pedestrian'から選択です\n",
        "# env = launch_env(\n",
        "#     is_original_map=True, map_abs_path=map_dir_abs_path + map_name + \".yaml\"\n",
        "# )\n",
        "\n",
        "env = ResizeWrapper(env)\n",
        "env = ImgWrapper(env)  # to make the images from 120x160x3 into 3x120x160\n",
        "env = ActionWrapper(env)\n",
        "env = DtRewardWrapper(env)\n",
        "env = OriginalWrapper(env)\n",
        "\n",
        "device = torch.device(\"cuda\") if torch.cuda.is_available() else torch.device(\"cpu\")\n",
        "config = DreamerConfig()\n",
        "trainer = Trainer(env, device, config)\n",
        "\n",
        "trainer.train()"
      ],
      "metadata": {
        "id": "Oe4o-yk70fku"
      },
      "execution_count": null,
      "outputs": []
    },
    {
      "cell_type": "code",
      "source": [
        "%tensorboard --logdir='./runs'"
      ],
      "metadata": {
        "id": "5Y-EPs6q0jIm"
      },
      "execution_count": null,
      "outputs": []
    }
  ]
}